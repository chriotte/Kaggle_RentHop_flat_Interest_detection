﻿{
 "cells": [
  {
   "cell_type": "code",
   "execution_count": 1,
   "metadata": {
    "collapsed": false
   },
   "outputs": [],
   "source": [
    "import pandas as pd\n",
    "import seaborn as sns\n",
    "import matplotlib.pyplot as plt\n",
    "import numpy as np\n",
    "%matplotlib inline\n",
    "\n",
    "#lol hesham\n",
    "#lol test github\n",
    "#petur rocks\n",
    "#hesham sucks a lot\n",
    "#hesham rocks more\n",
    "\n",
    "#i like these comments\n",
    "\n",
    "\n",
    "#this is also a test\n",
    "\n",
    "import matplotlib as mpl\n",
    "mpl.rc(\"savefig\", dpi=300)"
   ]
  },
  {
   "cell_type": "code",
   "execution_count": 118,
   "metadata": {
    "collapsed": false
   },
   "outputs": [],
   "source": [
    "df = pd.read_json(\"train.json\")"
   ]
  },
  {
   "cell_type": "markdown",
   "metadata": {},
   "source": [
    "# Data Preprocessing and Feature Engineering"
   ]
  },
  {
   "cell_type": "code",
   "execution_count": 119,
   "metadata": {
    "collapsed": false
   },
   "outputs": [
    {
     "name": "stderr",
     "output_type": "stream",
     "text": [
      "D:\\Anaconda3\\lib\\site-packages\\pandas\\core\\indexing.py:132: SettingWithCopyWarning: \n",
      "A value is trying to be set on a copy of a slice from a DataFrame\n",
      "\n",
      "See the caveats in the documentation: http://pandas.pydata.org/pandas-docs/stable/indexing.html#indexing-view-versus-copy\n",
      "  self._setitem_with_indexer(indexer, value)\n"
     ]
    }
   ],
   "source": [
    "def one_percent_cut(x, col):\n",
    "    \n",
    "    # cut data by 1st and 99th percentile\n",
    "    llimit = np.percentile(x[col].values, 1)\n",
    "    ulimit = np.percentile(x[col].values, 99)\n",
    "    x[col].ix[x[col]<llimit] = llimit\n",
    "    x[col].ix[x[col]>ulimit] = ulimit\n",
    "    \n",
    "    return x\n",
    "\n",
    "\n",
    "def clean_preprocess(initial_df):\n",
    "    \"\"\"\n",
    "    main preprocessing function\n",
    "    \"\"\"\n",
    "    \n",
    "    # convert created column into datetime type\n",
    "    initial_df['DateTime'] = pd.to_datetime(initial_df.created)\n",
    "    initial_df.drop('created', axis=1, inplace=True)\n",
    "    \n",
    "    # create feature for number of photos\n",
    "    initial_df['num_of_photos'] = initial_df.photos.map(len)\n",
    "\n",
    "    # potentially issues with the ordering\n",
    "    initial_df = one_percent_cut(initial_df, 'latitude')\n",
    "    initial_df = one_percent_cut(initial_df, 'latitude')\n",
    "    initial_df = one_percent_cut(initial_df, 'price')\n",
    "    \n",
    "    \n",
    "    return df\n",
    "\n",
    "\n",
    "\n",
    "df = clean_preprocess(df)"
   ]
  },
  {
   "cell_type": "code",
   "execution_count": null,
   "metadata": {
    "collapsed": false
   },
   "outputs": [],
   "source": []
  },
  {
   "cell_type": "markdown",
   "metadata": {},
   "source": [
    "# Feature Creation"
   ]
  },
  {
   "cell_type": "code",
   "execution_count": 120,
   "metadata": {
    "collapsed": false
   },
   "outputs": [],
   "source": [
    "# distance from borough centres\n",
    "\n",
    "the_bronx = [40.8448, -73.8648]\n",
    "manhattan = [40.7831, -73.9712]\n",
    "queens = [40.7282, -73.7949]\n",
    "brooklyn = [40.6782, -73.9442]\n",
    "staten_island = [40.5795, -74.1502]\n",
    "\n",
    "borough_list = {'the_bronx': the_bronx, 'manhattan': manhattan, 'queens': queens, 'brooklyn': brooklyn, 'staten_island': staten_island}\n",
    "\n",
    "def euclid_dist(x, lat, long):\n",
    "    return np.sqrt((x[0]-lat)**2 + (x[1]-long)**2)\n",
    "\n",
    "for key in borough_list:\n",
    "    df[key] = df[['latitude','longitude']].apply(euclid_dist, args=(borough_list[key]), axis=1)"
   ]
  },
  {
   "cell_type": "markdown",
   "metadata": {},
   "source": [
    "# Exploratory Data Analysis"
   ]
  },
  {
   "cell_type": "code",
   "execution_count": 121,
   "metadata": {
    "collapsed": false
   },
   "outputs": [
    {
     "data": {
      "text/html": [
       "<div>\n",
       "<table border=\"1\" class=\"dataframe\">\n",
       "  <thead>\n",
       "    <tr style=\"text-align: right;\">\n",
       "      <th></th>\n",
       "      <th>bathrooms</th>\n",
       "      <th>bedrooms</th>\n",
       "      <th>building_id</th>\n",
       "      <th>description</th>\n",
       "      <th>display_address</th>\n",
       "      <th>features</th>\n",
       "      <th>interest_level</th>\n",
       "      <th>latitude</th>\n",
       "      <th>listing_id</th>\n",
       "      <th>longitude</th>\n",
       "      <th>...</th>\n",
       "      <th>photos</th>\n",
       "      <th>price</th>\n",
       "      <th>street_address</th>\n",
       "      <th>DateTime</th>\n",
       "      <th>num_of_photos</th>\n",
       "      <th>the_bronx</th>\n",
       "      <th>staten_island</th>\n",
       "      <th>brooklyn</th>\n",
       "      <th>queens</th>\n",
       "      <th>manhattan</th>\n",
       "    </tr>\n",
       "  </thead>\n",
       "  <tbody>\n",
       "    <tr>\n",
       "      <th>10</th>\n",
       "      <td>1.5</td>\n",
       "      <td>3</td>\n",
       "      <td>53a5b119ba8f7b61d4e010512e0dfc85</td>\n",
       "      <td>A Brand New 3 Bedroom 1.5 bath ApartmentEnjoy ...</td>\n",
       "      <td>Metropolitan Avenue</td>\n",
       "      <td>[]</td>\n",
       "      <td>medium</td>\n",
       "      <td>40.7145</td>\n",
       "      <td>7211212</td>\n",
       "      <td>-73.9425</td>\n",
       "      <td>...</td>\n",
       "      <td>[https://photos.renthop.com/2/7211212_1ed4542e...</td>\n",
       "      <td>3000.0</td>\n",
       "      <td>792 Metropolitan Avenue</td>\n",
       "      <td>2016-06-24 07:54:24</td>\n",
       "      <td>5</td>\n",
       "      <td>0.151708</td>\n",
       "      <td>0.247718</td>\n",
       "      <td>0.036340</td>\n",
       "      <td>0.148234</td>\n",
       "      <td>0.074362</td>\n",
       "    </tr>\n",
       "    <tr>\n",
       "      <th>10000</th>\n",
       "      <td>1.0</td>\n",
       "      <td>2</td>\n",
       "      <td>c5c8a357cba207596b04d1afd1e4f130</td>\n",
       "      <td></td>\n",
       "      <td>Columbus Avenue</td>\n",
       "      <td>[Doorman, Elevator, Fitness Center, Cats Allow...</td>\n",
       "      <td>low</td>\n",
       "      <td>40.7947</td>\n",
       "      <td>7150865</td>\n",
       "      <td>-73.9667</td>\n",
       "      <td>...</td>\n",
       "      <td>[https://photos.renthop.com/2/7150865_be3306c5...</td>\n",
       "      <td>5465.0</td>\n",
       "      <td>808 Columbus Avenue</td>\n",
       "      <td>2016-06-12 12:19:27</td>\n",
       "      <td>11</td>\n",
       "      <td>0.113550</td>\n",
       "      <td>0.282813</td>\n",
       "      <td>0.118653</td>\n",
       "      <td>0.184221</td>\n",
       "      <td>0.012442</td>\n",
       "    </tr>\n",
       "    <tr>\n",
       "      <th>100004</th>\n",
       "      <td>1.0</td>\n",
       "      <td>1</td>\n",
       "      <td>c3ba40552e2120b0acfc3cb5730bb2aa</td>\n",
       "      <td>Top Top West Village location, beautiful Pre-w...</td>\n",
       "      <td>W 13 Street</td>\n",
       "      <td>[Laundry In Building, Dishwasher, Hardwood Flo...</td>\n",
       "      <td>high</td>\n",
       "      <td>40.7388</td>\n",
       "      <td>6887163</td>\n",
       "      <td>-74.0018</td>\n",
       "      <td>...</td>\n",
       "      <td>[https://photos.renthop.com/2/6887163_de85c427...</td>\n",
       "      <td>2850.0</td>\n",
       "      <td>241 W 13 Street</td>\n",
       "      <td>2016-04-17 03:26:41</td>\n",
       "      <td>8</td>\n",
       "      <td>0.173220</td>\n",
       "      <td>0.217713</td>\n",
       "      <td>0.083607</td>\n",
       "      <td>0.207171</td>\n",
       "      <td>0.053841</td>\n",
       "    </tr>\n",
       "  </tbody>\n",
       "</table>\n",
       "<p>3 rows × 21 columns</p>\n",
       "</div>"
      ],
      "text/plain": [
       "        bathrooms  bedrooms                       building_id  \\\n",
       "10            1.5         3  53a5b119ba8f7b61d4e010512e0dfc85   \n",
       "10000         1.0         2  c5c8a357cba207596b04d1afd1e4f130   \n",
       "100004        1.0         1  c3ba40552e2120b0acfc3cb5730bb2aa   \n",
       "\n",
       "                                              description  \\\n",
       "10      A Brand New 3 Bedroom 1.5 bath ApartmentEnjoy ...   \n",
       "10000                                                       \n",
       "100004  Top Top West Village location, beautiful Pre-w...   \n",
       "\n",
       "            display_address  \\\n",
       "10      Metropolitan Avenue   \n",
       "10000       Columbus Avenue   \n",
       "100004          W 13 Street   \n",
       "\n",
       "                                                 features interest_level  \\\n",
       "10                                                     []         medium   \n",
       "10000   [Doorman, Elevator, Fitness Center, Cats Allow...            low   \n",
       "100004  [Laundry In Building, Dishwasher, Hardwood Flo...           high   \n",
       "\n",
       "        latitude  listing_id  longitude    ...      \\\n",
       "10       40.7145     7211212   -73.9425    ...       \n",
       "10000    40.7947     7150865   -73.9667    ...       \n",
       "100004   40.7388     6887163   -74.0018    ...       \n",
       "\n",
       "                                                   photos   price  \\\n",
       "10      [https://photos.renthop.com/2/7211212_1ed4542e...  3000.0   \n",
       "10000   [https://photos.renthop.com/2/7150865_be3306c5...  5465.0   \n",
       "100004  [https://photos.renthop.com/2/6887163_de85c427...  2850.0   \n",
       "\n",
       "                 street_address            DateTime num_of_photos  the_bronx  \\\n",
       "10      792 Metropolitan Avenue 2016-06-24 07:54:24             5   0.151708   \n",
       "10000       808 Columbus Avenue 2016-06-12 12:19:27            11   0.113550   \n",
       "100004          241 W 13 Street 2016-04-17 03:26:41             8   0.173220   \n",
       "\n",
       "        staten_island  brooklyn    queens  manhattan  \n",
       "10           0.247718  0.036340  0.148234   0.074362  \n",
       "10000        0.282813  0.118653  0.184221   0.012442  \n",
       "100004       0.217713  0.083607  0.207171   0.053841  \n",
       "\n",
       "[3 rows x 21 columns]"
      ]
     },
     "execution_count": 121,
     "metadata": {},
     "output_type": "execute_result"
    }
   ],
   "source": [
    "df.head(3)"
   ]
  },
  {
   "cell_type": "code",
   "execution_count": 122,
   "metadata": {
    "collapsed": false
   },
   "outputs": [
    {
     "data": {
      "text/html": [
       "<div>\n",
       "<table border=\"1\" class=\"dataframe\">\n",
       "  <thead>\n",
       "    <tr style=\"text-align: right;\">\n",
       "      <th></th>\n",
       "      <th>bathrooms</th>\n",
       "      <th>bedrooms</th>\n",
       "      <th>latitude</th>\n",
       "      <th>listing_id</th>\n",
       "      <th>longitude</th>\n",
       "      <th>price</th>\n",
       "      <th>num_of_photos</th>\n",
       "      <th>the_bronx</th>\n",
       "      <th>staten_island</th>\n",
       "      <th>brooklyn</th>\n",
       "      <th>queens</th>\n",
       "      <th>manhattan</th>\n",
       "    </tr>\n",
       "  </thead>\n",
       "  <tbody>\n",
       "    <tr>\n",
       "      <th>count</th>\n",
       "      <td>49352.00000</td>\n",
       "      <td>49352.000000</td>\n",
       "      <td>49352.000000</td>\n",
       "      <td>4.935200e+04</td>\n",
       "      <td>49352.000000</td>\n",
       "      <td>49352.000000</td>\n",
       "      <td>49352.000000</td>\n",
       "      <td>49352.000000</td>\n",
       "      <td>49352.000000</td>\n",
       "      <td>49352.000000</td>\n",
       "      <td>49352.000000</td>\n",
       "      <td>49352.000000</td>\n",
       "    </tr>\n",
       "    <tr>\n",
       "      <th>mean</th>\n",
       "      <td>1.21218</td>\n",
       "      <td>1.541640</td>\n",
       "      <td>40.751115</td>\n",
       "      <td>7.024055e+06</td>\n",
       "      <td>-73.955716</td>\n",
       "      <td>3610.277476</td>\n",
       "      <td>5.606946</td>\n",
       "      <td>0.166909</td>\n",
       "      <td>0.269227</td>\n",
       "      <td>0.107933</td>\n",
       "      <td>0.204170</td>\n",
       "      <td>0.069262</td>\n",
       "    </tr>\n",
       "    <tr>\n",
       "      <th>std</th>\n",
       "      <td>0.50142</td>\n",
       "      <td>1.115018</td>\n",
       "      <td>0.038371</td>\n",
       "      <td>1.262746e+05</td>\n",
       "      <td>1.177912</td>\n",
       "      <td>1847.162014</td>\n",
       "      <td>3.632283</td>\n",
       "      <td>1.173939</td>\n",
       "      <td>1.176325</td>\n",
       "      <td>1.175903</td>\n",
       "      <td>1.172028</td>\n",
       "      <td>1.177036</td>\n",
       "    </tr>\n",
       "    <tr>\n",
       "      <th>min</th>\n",
       "      <td>0.00000</td>\n",
       "      <td>0.000000</td>\n",
       "      <td>40.640400</td>\n",
       "      <td>6.811957e+06</td>\n",
       "      <td>-118.271000</td>\n",
       "      <td>1475.000000</td>\n",
       "      <td>0.000000</td>\n",
       "      <td>0.006181</td>\n",
       "      <td>0.061652</td>\n",
       "      <td>0.002102</td>\n",
       "      <td>0.011951</td>\n",
       "      <td>0.000000</td>\n",
       "    </tr>\n",
       "    <tr>\n",
       "      <th>25%</th>\n",
       "      <td>1.00000</td>\n",
       "      <td>1.000000</td>\n",
       "      <td>40.728300</td>\n",
       "      <td>6.915888e+06</td>\n",
       "      <td>-73.991700</td>\n",
       "      <td>2500.000000</td>\n",
       "      <td>4.000000</td>\n",
       "      <td>0.117948</td>\n",
       "      <td>0.221910</td>\n",
       "      <td>0.071340</td>\n",
       "      <td>0.170478</td>\n",
       "      <td>0.023817</td>\n",
       "    </tr>\n",
       "    <tr>\n",
       "      <th>50%</th>\n",
       "      <td>1.00000</td>\n",
       "      <td>1.000000</td>\n",
       "      <td>40.751800</td>\n",
       "      <td>7.021070e+06</td>\n",
       "      <td>-73.977900</td>\n",
       "      <td>3150.000000</td>\n",
       "      <td>5.000000</td>\n",
       "      <td>0.148920</td>\n",
       "      <td>0.243304</td>\n",
       "      <td>0.084598</td>\n",
       "      <td>0.186888</td>\n",
       "      <td>0.039528</td>\n",
       "    </tr>\n",
       "    <tr>\n",
       "      <th>75%</th>\n",
       "      <td>1.00000</td>\n",
       "      <td>2.000000</td>\n",
       "      <td>40.774300</td>\n",
       "      <td>7.128733e+06</td>\n",
       "      <td>-73.954800</td>\n",
       "      <td>4100.000000</td>\n",
       "      <td>7.000000</td>\n",
       "      <td>0.169689</td>\n",
       "      <td>0.275789</td>\n",
       "      <td>0.099985</td>\n",
       "      <td>0.199309</td>\n",
       "      <td>0.063152</td>\n",
       "    </tr>\n",
       "    <tr>\n",
       "      <th>max</th>\n",
       "      <td>10.00000</td>\n",
       "      <td>8.000000</td>\n",
       "      <td>40.861972</td>\n",
       "      <td>7.753784e+06</td>\n",
       "      <td>0.000000</td>\n",
       "      <td>13000.000000</td>\n",
       "      <td>68.000000</td>\n",
       "      <td>73.865083</td>\n",
       "      <td>74.150225</td>\n",
       "      <td>73.944210</td>\n",
       "      <td>73.794952</td>\n",
       "      <td>73.971338</td>\n",
       "    </tr>\n",
       "  </tbody>\n",
       "</table>\n",
       "</div>"
      ],
      "text/plain": [
       "         bathrooms      bedrooms      latitude    listing_id     longitude  \\\n",
       "count  49352.00000  49352.000000  49352.000000  4.935200e+04  49352.000000   \n",
       "mean       1.21218      1.541640     40.751115  7.024055e+06    -73.955716   \n",
       "std        0.50142      1.115018      0.038371  1.262746e+05      1.177912   \n",
       "min        0.00000      0.000000     40.640400  6.811957e+06   -118.271000   \n",
       "25%        1.00000      1.000000     40.728300  6.915888e+06    -73.991700   \n",
       "50%        1.00000      1.000000     40.751800  7.021070e+06    -73.977900   \n",
       "75%        1.00000      2.000000     40.774300  7.128733e+06    -73.954800   \n",
       "max       10.00000      8.000000     40.861972  7.753784e+06      0.000000   \n",
       "\n",
       "              price  num_of_photos     the_bronx  staten_island      brooklyn  \\\n",
       "count  49352.000000   49352.000000  49352.000000   49352.000000  49352.000000   \n",
       "mean    3610.277476       5.606946      0.166909       0.269227      0.107933   \n",
       "std     1847.162014       3.632283      1.173939       1.176325      1.175903   \n",
       "min     1475.000000       0.000000      0.006181       0.061652      0.002102   \n",
       "25%     2500.000000       4.000000      0.117948       0.221910      0.071340   \n",
       "50%     3150.000000       5.000000      0.148920       0.243304      0.084598   \n",
       "75%     4100.000000       7.000000      0.169689       0.275789      0.099985   \n",
       "max    13000.000000      68.000000     73.865083      74.150225     73.944210   \n",
       "\n",
       "             queens     manhattan  \n",
       "count  49352.000000  49352.000000  \n",
       "mean       0.204170      0.069262  \n",
       "std        1.172028      1.177036  \n",
       "min        0.011951      0.000000  \n",
       "25%        0.170478      0.023817  \n",
       "50%        0.186888      0.039528  \n",
       "75%        0.199309      0.063152  \n",
       "max       73.794952     73.971338  "
      ]
     },
     "execution_count": 122,
     "metadata": {},
     "output_type": "execute_result"
    }
   ],
   "source": [
    "df.describe()"
   ]
  },
  {
   "cell_type": "code",
   "execution_count": 5,
   "metadata": {
    "collapsed": false
   },
   "outputs": [
    {
     "data": {
      "text/plain": [
       "['bathrooms',\n",
       " 'bedrooms',\n",
       " 'building_id',\n",
       " 'created',\n",
       " 'description',\n",
       " 'display_address',\n",
       " 'features',\n",
       " 'interest_level',\n",
       " 'latitude',\n",
       " 'listing_id',\n",
       " 'longitude',\n",
       " 'manager_id',\n",
       " 'photos',\n",
       " 'price',\n",
       " 'street_address']"
      ]
     },
     "execution_count": 5,
     "metadata": {},
     "output_type": "execute_result"
    }
   ],
   "source": [
    "df.columns.tolist()"
   ]
  },
  {
   "cell_type": "code",
   "execution_count": 123,
   "metadata": {
    "collapsed": false,
    "scrolled": true
   },
   "outputs": [
    {
     "data": {
      "text/plain": [
       "<matplotlib.text.Text at 0x1ed16c1e278>"
      ]
     },
     "execution_count": 123,
     "metadata": {},
     "output_type": "execute_result"
    },
    {
     "data": {
      "image/png": "[encoded data removed]",
      "text/plain": [
       "<matplotlib.figure.Figure at 0x1ed15b12080>"
      ]
     },
     "metadata": {},
     "output_type": "display_data"
    }
   ],
   "source": [
    "#position data: longitude/latitude\n",
    "\n",
    "plt.scatter(df.longitude, df.latitude, s = 10)\n",
    "plt.ylabel('latitude')\n",
    "plt.xlabel('longitude')"
   ]
  },
  {
   "cell_type": "code",
   "execution_count": 122,
   "metadata": {
    "collapsed": false
   },
   "outputs": [
    {
     "data": {
      "text/plain": [
       "bathrooms          12\n",
       "bedrooms           12\n",
       "building_id        12\n",
       "created            12\n",
       "description        12\n",
       "display_address    12\n",
       "features           12\n",
       "interest_level     12\n",
       "latitude           12\n",
       "listing_id         12\n",
       "longitude          12\n",
       "manager_id         12\n",
       "photos             12\n",
       "price              12\n",
       "street_address     12\n",
       "dtype: int64"
      ]
     },
     "execution_count": 122,
     "metadata": {},
     "output_type": "execute_result"
    }
   ],
   "source": [
    "df[df.longitude == 0].count()"
   ]
  },
  {
   "cell_type": "code",
   "execution_count": 60,
   "metadata": {
    "collapsed": false,
    "scrolled": false
   },
   "outputs": [],
   "source": [
    "\"\"\"\n",
    "Considerations with the data:\n",
    "    imbalanced dataset (not many high interest apartments compared to the rest)\n",
    "    \n",
    "\n",
    "Plots to produce\n",
    "    barplot of interest levels - done\n",
    "    map of interest levels\n",
    "    price map\n",
    "    \n",
    "\n",
    "Features to use\n",
    "    bathrooms\n",
    "    bedrooms\n",
    "    price\n",
    "\n",
    "Additional features to create:\n",
    "    Number of images\n",
    "    description length\n",
    "    creation year, month, day\n",
    "    description word frequency - create features out of top x words\n",
    "    distance to borough centres\n",
    "\n",
    "\n",
    "Target:\n",
    "    Interest Level\n",
    "\"\"\""
   ]
  },
  {
   "cell_type": "code",
   "execution_count": 124,
   "metadata": {
    "collapsed": false
   },
   "outputs": [
    {
     "data": {
      "text/plain": [
       "<matplotlib.text.Text at 0x1ed17041320>"
      ]
     },
     "execution_count": 124,
     "metadata": {},
     "output_type": "execute_result"
    },
    {
     "data": {
      "image/png": "[encoded data removed]",
      "text/plain": [
       "<matplotlib.figure.Figure at 0x1ed1d25dc50>"
      ]
     },
     "metadata": {},
     "output_type": "display_data"
    }
   ],
   "source": [
    "# plot of interest levels\n",
    "interest_cat = df.interest_level.value_counts()\n",
    "x = interest_cat.index\n",
    "y = interest_cat.values\n",
    "\n",
    "sns.barplot(x, y)\n",
    "plt.ylabel(\"Count\")\n",
    "plt.xlabel(\"Interest Level\")"
   ]
  },
  {
   "cell_type": "code",
   "execution_count": 91,
   "metadata": {
    "collapsed": false
   },
   "outputs": [
    {
     "data": {
      "text/plain": [
       "1.0     39422\n",
       "2.0      7660\n",
       "3.0       745\n",
       "1.5       645\n",
       "0.0       313\n",
       "2.5       277\n",
       "4.0       159\n",
       "3.5        70\n",
       "4.5        29\n",
       "5.0        20\n",
       "5.5         5\n",
       "6.0         4\n",
       "10.0        1\n",
       "6.5         1\n",
       "7.0         1\n",
       "Name: bathrooms, dtype: int64"
      ]
     },
     "execution_count": 91,
     "metadata": {},
     "output_type": "execute_result"
    }
   ],
   "source": [
    "df.bathrooms.value_counts()"
   ]
  },
  {
   "cell_type": "code",
   "execution_count": 107,
   "metadata": {
    "collapsed": false,
    "scrolled": true
   },
   "outputs": [
    {
     "data": {
      "text/plain": [
       "interest_level  bathrooms\n",
       "high            0.0              1\n",
       "                1.0           3413\n",
       "                2.0            407\n",
       "                3.0             14\n",
       "                4.0              4\n",
       "low             0.0            306\n",
       "                1.0          26581\n",
       "                1.5            605\n",
       "                2.0           5566\n",
       "                2.5            274\n",
       "                3.0            671\n",
       "                3.5             70\n",
       "                4.0            150\n",
       "                4.5             29\n",
       "                5.0             20\n",
       "                5.5              5\n",
       "                6.0              4\n",
       "                6.5              1\n",
       "                7.0              1\n",
       "                10.0             1\n",
       "medium          0.0              6\n",
       "                1.0           9428\n",
       "                1.5             40\n",
       "                2.0           1687\n",
       "                2.5              3\n",
       "                3.0             60\n",
       "                4.0              5\n",
       "Name: interest_level, dtype: int64"
      ]
     },
     "execution_count": 107,
     "metadata": {},
     "output_type": "execute_result"
    }
   ],
   "source": [
    "df.groupby(by=['interest_level', 'bathrooms'])['interest_level'].count()"
   ]
  },
  {
   "cell_type": "code",
   "execution_count": 112,
   "metadata": {
    "collapsed": false
   },
   "outputs": [
    {
     "data": {
      "text/plain": [
       "<matplotlib.axes._subplots.AxesSubplot at 0x292ae470828>"
      ]
     },
     "execution_count": 112,
     "metadata": {},
     "output_type": "execute_result"
    },
    {
     "data": {
      "image/png": "[encoded data removed]",
      "text/plain": [
       "<matplotlib.figure.Figure at 0x292c77a2cf8>"
      ]
     },
     "metadata": {},
     "output_type": "display_data"
    }
   ],
   "source": [
    "sns.barplot(x='bedrooms',y='price',hue='interest_level', data=df)"
   ]
  },
  {
   "cell_type": "code",
   "execution_count": 130,
   "metadata": {
    "collapsed": false
   },
   "outputs": [
    {
     "data": {
      "text/plain": [
       "<matplotlib.text.Text at 0x1ed1cd8cb38>"
      ]
     },
     "execution_count": 130,
     "metadata": {},
     "output_type": "execute_result"
    },
    {
     "data": {
      "image/png": "[encoded data removed]",
      "text/plain": [
       "<matplotlib.figure.Figure at 0x1ed1d201240>"
      ]
     },
     "metadata": {},
     "output_type": "display_data"
    }
   ],
   "source": [
    "sns.boxplot(x=\"interest_level\", y=\"price\", data=df, palette=\"PRGn\", order=['low','medium','high'])\n",
    "sns.despine(offset=10, trim=True)\n",
    "plt.ylabel('price per month USD')"
   ]
  },
  {
   "cell_type": "code",
   "execution_count": null,
   "metadata": {
    "collapsed": false
   },
   "outputs": [],
   "source": []
  },
  {
   "cell_type": "code",
   "execution_count": 21,
   "metadata": {
    "collapsed": false
   },
   "outputs": [],
   "source": []
  },
  {
   "cell_type": "code",
   "execution_count": 112,
   "metadata": {
    "collapsed": false
   },
   "outputs": [
    {
     "name": "stderr",
     "output_type": "stream",
     "text": [
      "D:\\Anaconda3\\lib\\site-packages\\pandas\\core\\indexing.py:132: SettingWithCopyWarning: \n",
      "A value is trying to be set on a copy of a slice from a DataFrame\n",
      "\n",
      "See the caveats in the documentation: http://pandas.pydata.org/pandas-docs/stable/indexing.html#indexing-view-versus-copy\n",
      "  self._setitem_with_indexer(indexer, value)\n",
      "D:\\Anaconda3\\lib\\site-packages\\statsmodels\\nonparametric\\kdetools.py:20: VisibleDeprecationWarning: using a non-integer number instead of an integer will result in an error in the future\n",
      "  y = X[:m/2+1] + np.r_[0,X[m/2+1:],0]*1j\n"
     ]
    },
    {
     "data": {
      "text/plain": [
       "<matplotlib.axes._subplots.AxesSubplot at 0x1ed15d118d0>"
      ]
     },
     "execution_count": 112,
     "metadata": {},
     "output_type": "execute_result"
    },
    {
     "data": {
      "image/png": "[encoded data removed]",
      "text/plain": [
       "<matplotlib.figure.Figure at 0x1ed15a5a940>"
      ]
     },
     "metadata": {},
     "output_type": "display_data"
    }
   ],
   "source": []
  },
  {
   "cell_type": "markdown",
   "metadata": {},
   "source": [
    "# Description BoW"
   ]
  },
  {
   "cell_type": "code",
   "execution_count": 64,
   "metadata": {
    "collapsed": true
   },
   "outputs": [],
   "source": [
    "import nltk\n",
    "from nltk.stem import WordNetLemmatizer\n",
    "import re, html\n",
    "\n",
    "\n",
    "description = \"A Brand New 3 Bedroom 1.5 bath ApartmentEnjoy These Following Apartment Features As You Rent Here? Modern Designed Bathroom w/ a Deep Spa Soaking Tub? Room to Room AC/Heat? Real Oak Hardwood Floors? Rain Forest Shower Head? SS steel Appliances w/ Chef Gas Cook Oven & LG Fridge? washer /dryer in the apt? Cable Internet Ready? Granite Counter Top Kitchen w/ lot of cabinet storage spaceIt's Just A Few blocks To L Train<br /><br />Don't miss out!<br /><br />We have several great apartments in the immediate area.<br /><br />For additional information 687-878-2229<p><a  website_redacted\" \n",
    "\n",
    "wordFreqDict = {}\n",
    "tag_re = re.compile(r'(<!--.*?-->|<[^>]*>)')\n",
    "\n",
    "def makeFreqDict(description):\n",
    "# takes a string, splits it up and add the occurances of each word to the dictionary\n",
    "    no_tags = tag_re.sub('', description)\n",
    "    description = html.escape(no_tags)   \n",
    "    words = nltk.tokenize.word_tokenize(description)\n",
    "    \n",
    "    unimportant_words = [':', 'http', '.', ',', '?', '...', \"'s\", \"n't\", 'RT', ';', '&', ')', '``', 'u', '(', \"''\", '|',]\n",
    "    for word in words:\n",
    "        if word not in unimportant_words:\n",
    "            word = WordNetLemmatizer().lemmatize(word)\n",
    "    \n",
    "            if word in wordFreqDict:\n",
    "                wordFreqDict[word] += 1\n",
    "            else:\n",
    "                wordFreqDict[word] = 1\n",
    "                        \n",
    "makeFreqDict(description)"
   ]
  },
  {
   "cell_type": "markdown",
   "metadata": {},
   "source": [
    "# Modelling"
   ]
  },
  {
   "cell_type": "code",
   "execution_count": 85,
   "metadata": {
    "collapsed": true
   },
   "outputs": [],
   "source": [
    "from sklearn.linear_model import LogisticRegression\n",
    "from sklearn.metrics import confusion_matrix\n",
    "from sklearn.model_selection import cross_val_score as cv\n",
    "from sklearn.ensemble import RandomForestClassifier\n",
    "from sklearn.preprocessing import normalize"
   ]
  },
  {
   "cell_type": "code",
   "execution_count": 131,
   "metadata": {
    "collapsed": false
   },
   "outputs": [
    {
     "data": {
      "text/plain": [
       "['bathrooms',\n",
       " 'bedrooms',\n",
       " 'building_id',\n",
       " 'description',\n",
       " 'display_address',\n",
       " 'features',\n",
       " 'interest_level',\n",
       " 'latitude',\n",
       " 'listing_id',\n",
       " 'longitude',\n",
       " 'manager_id',\n",
       " 'photos',\n",
       " 'price',\n",
       " 'street_address',\n",
       " 'DateTime',\n",
       " 'num_of_photos',\n",
       " 'the_bronx',\n",
       " 'staten_island',\n",
       " 'brooklyn',\n",
       " 'queens',\n",
       " 'manhattan']"
      ]
     },
     "execution_count": 131,
     "metadata": {},
     "output_type": "execute_result"
    }
   ],
   "source": [
    "# quick check to see the available features\n",
    "df.columns.tolist()"
   ]
  },
  {
   "cell_type": "code",
   "execution_count": 147,
   "metadata": {
    "collapsed": false
   },
   "outputs": [],
   "source": [
    "features_to_use = ['bathrooms','bedrooms','price', 'the_bronx', 'staten_island','manhattan','queens','brooklyn', 'num_of_photos']\n",
    "features = df[features_to_use]\n",
    "features = normalize(features)\n",
    "\n",
    "target_conversion = {'low':0,'medium':1,'high':2}"
   ]
  },
  {
   "cell_type": "code",
   "execution_count": 157,
   "metadata": {
    "collapsed": false
   },
   "outputs": [],
   "source": [
    "target = df.interest_level.map(target_conversion).values"
   ]
  },
  {
   "cell_type": "code",
   "execution_count": 158,
   "metadata": {
    "collapsed": false
   },
   "outputs": [],
   "source": [
    "model = RandomForestClassifier(n_estimators=100)"
   ]
  },
  {
   "cell_type": "code",
   "execution_count": 159,
   "metadata": {
    "collapsed": false
   },
   "outputs": [
    {
     "data": {
      "text/plain": [
       "RandomForestClassifier(bootstrap=True, class_weight=None, criterion='gini',\n",
       "            max_depth=None, max_features='auto', max_leaf_nodes=None,\n",
       "            min_impurity_split=1e-07, min_samples_leaf=1,\n",
       "            min_samples_split=2, min_weight_fraction_leaf=0.0,\n",
       "            n_estimators=100, n_jobs=1, oob_score=False, random_state=None,\n",
       "            verbose=0, warm_start=False)"
      ]
     },
     "execution_count": 159,
     "metadata": {},
     "output_type": "execute_result"
    }
   ],
   "source": [
    "model.fit(features, target)"
   ]
  },
  {
   "cell_type": "code",
   "execution_count": 160,
   "metadata": {
    "collapsed": false
   },
   "outputs": [],
   "source": [
    "y_hat = model.predict(features)"
   ]
  },
  {
   "cell_type": "code",
   "execution_count": 161,
   "metadata": {
    "collapsed": false
   },
   "outputs": [
    {
     "data": {
      "text/plain": [
       "array([[33508,   688,    88],\n",
       "       [ 1208,  9816,   205],\n",
       "       [  214,   375,  3250]])"
      ]
     },
     "execution_count": 161,
     "metadata": {},
     "output_type": "execute_result"
    }
   ],
   "source": [
    "confusion_matrix(target, y_hat)"
   ]
  },
  {
   "cell_type": "code",
   "execution_count": 162,
   "metadata": {
    "collapsed": false
   },
   "outputs": [
    {
     "data": {
      "text/plain": [
       "0.94371048792348844"
      ]
     },
     "execution_count": 162,
     "metadata": {},
     "output_type": "execute_result"
    }
   ],
   "source": [
    "model.score(features, target)"
   ]
  },
  {
   "cell_type": "code",
   "execution_count": 166,
   "metadata": {
    "collapsed": false
   },
   "outputs": [
    {
     "data": {
      "text/plain": [
       "array([ 0.6992888 ,  0.69898486,  0.69398176])"
      ]
     },
     "execution_count": 166,
     "metadata": {},
     "output_type": "execute_result"
    }
   ],
   "source": [
    "cv(model, features, target)"
   ]
  },
  {
   "cell_type": "code",
   "execution_count": null,
   "metadata": {
    "collapsed": true
   },
   "outputs": [],
   "source": [
    "# normalise all data\n",
    "# split data into train val and test sets\n",
    "# use random with set seed for repeatable results\n",
    "# check the labels to ensure good split between classes"
   ]
  },
  {
   "cell_type": "code",
   "execution_count": 167,
   "metadata": {
    "collapsed": false
   },
   "outputs": [
    {
     "data": {
      "text/plain": [
       "array([ 0.09728431,  0.11923475,  0.08363386,  0.11771258,  0.11732665,\n",
       "        0.11257783,  0.11801225,  0.11212005,  0.12209773])"
      ]
     },
     "execution_count": 167,
     "metadata": {},
     "output_type": "execute_result"
    }
   ],
   "source": [
    "from sklearn.ensemble import ExtraTreesClassifier\n",
    "clf = ExtraTreesClassifier()\n",
    "clf = clf.fit(features, target)\n",
    "clf.feature_importances_"
   ]
  },
  {
   "cell_type": "code",
   "execution_count": null,
   "metadata": {
    "collapsed": true
   },
   "outputs": [],
   "source": []
  },
  {
   "cell_type": "code",
   "execution_count": null,
   "metadata": {
    "collapsed": true
   },
   "outputs": [],
   "source": [
    "#test"
   ]
  }
 ],
 "metadata": {
  "anaconda-cloud": {},
  "kernelspec": {
   "display_name": "Python [conda root]",
   "language": "python",
   "name": "conda-root-py"
  },
  "language_info": {
   "codemirror_mode": {
    "name": "ipython",
    "version": 3
   },
   "file_extension": ".py",
   "mimetype": "text/x-python",
   "name": "python",
   "nbconvert_exporter": "python",
   "pygments_lexer": "ipython3",
   "version": "3.5.2"
  }
 },
 "nbformat": 4,
 "nbformat_minor": 1
}
